{
 "cells": [
  {
   "cell_type": "markdown",
   "id": "540c57ea-e31e-4a4b-b9b8-815983d7e1d0",
   "metadata": {},
   "source": [
    "# Title: Analysis of Resting Blood Pressure (mm Hg) and Maximum Heart Rate (bpm) for Heart Disease Severity Classification"
   ]
  },
  {
   "cell_type": "markdown",
   "id": "520d2467-2820-4cb3-bdc3-bfdecfa32126",
   "metadata": {},
   "source": [
    "# Introduction"
   ]
  },
  {
   "cell_type": "markdown",
   "id": "77e5aed8-d3d3-49d0-9db6-47fbe60359cc",
   "metadata": {},
   "source": [
    "For my final project, I will be using a modified version of the UCI Heart Disease dataset, specifically focusing on the Cleveland database. The UCI Heart Disease dataset includes data from four sources: Cleveland, Hungary, Switzerland, and the VA Long Beach. The Cleveland database used to predict heart disease is chosen due to its sufficient number of observations. Heart disease is a major global health concern and responsible for a significant portion of deaths worldwide. Early detection and accurate classification of heart disease are vital for effective treatment. Additionally, the ability to predict the severity of heart disease can help healthcare professionals prioritize interventions and provide the ideal treatments to individual patients' needs. The Heart Disease Cleveland dataframe includes the variables: \"trestbps\" and \"thalach\", which I will be using to predict our variable of interest: \"num\". In this dataframe, \"trestbps\" refers to the \"resting blood pressure (mm Hg)\" on admission to the hospital, while \"thalach\" refers to \"maximum heart rate achieved (beats per minute, bpm)\", and \"num\" means the diagnosis of heart disease with a value of: 0 means no heart disease, 1-4 means the levels of heart disease[1]. I would classify levels of heart disease as 1 = Mild, 2 = Moderate, 3 = Severe 4 = Life threatening[2]. With these resources, I will be answering the question: Can we classify the extent of heart disease using resting blood pressure and maximum heart rate achieved?\n",
    "\n",
    "[1]: Source from Piazza question @555\n",
    "\n",
    "[2]: For the levels of heart disease, I refer to the document https://www.rigshospitalet.dk/afdelinger-og-klinikker/kraeft-og-organsygdomme/blodsygdomme/forskning/forsoegsbehandling/Documents/Lymfomer/Triangle/Triangle-SAE.pdf"
   ]
  },
  {
   "cell_type": "markdown",
   "id": "6f59faf6-14fb-478e-b2b0-20e2e2d46bfa",
   "metadata": {},
   "source": [
    "# Methods and Results:"
   ]
  },
  {
   "cell_type": "markdown",
   "id": "c1cb2ea8-0c42-42a7-808f-b9f57ee5bf68",
   "metadata": {},
   "source": [
    "The dataset would be loaded into my jupyter notebook using the function of read.table() in R so that I can easily manipulate and tidy the data. Also, the variables would be change from character to factor or integer or numeric according to the orginal dataset. The data analysis will utilize the \"trestbps,\" \"thalach,\" and \"num\" columns, which represent resting blood pressure (mm Hg), maximum heart rate achieved (bpm), and the diagnosis of heart disease, respectively. This analysis aims to understand how different maximum heart rates and resting blood pressure levels correlate with various diagnoses of heart disease. \n",
    "\n",
    "The prediction would be measured based on a classification model. Both predictor variables are quantitative for predicting the categorial class. The classification would be done with the application of k nearest neighbor algorithm as it does not require any specific shape assumption for the algorithm to perform well. I would split the dataset into training and testing sets. The optimal number of neighbors would be found by using the training dataset to train the k-NN model on the training data using different values of k to find the optimal number of neighbors. Additionally, I would evaluate the model performance using cross-validation to ensure it generalizes well to unseen data. Lastly, I would use the classifier, trained by the training set, to classify the heart disease diagnoses in the testing data. Then, I would perform a metrics from the predicted testing set to obtain the information of accuracy, precision, and recall of that classifier by analyzing the confusion matrix to understand the model's performance in predicting each class of heart disease.\n",
    "\n",
    "To visualize the result, a scatter plot would be used with the standardized variables to make sure the classifier would not treat one of the variables more important than the other. Each type of heart disease diagnosis would be labeled with different colors for clear identification."
   ]
  },
  {
   "cell_type": "markdown",
   "id": "a8ac6d19-dc57-492f-84cc-2953719f2c3c",
   "metadata": {},
   "source": [
    "# This step is to load the packages I need to use to tidy the dataset:"
   ]
  },
  {
   "cell_type": "code",
   "execution_count": 2,
   "id": "b72fd45c-e752-43fc-8da5-48ec1d36c248",
   "metadata": {},
   "outputs": [],
   "source": [
    "library(tidyverse)\n",
    "library(tidymodels)\n",
    "library(repr)\n",
    "options(repr.matrix.max.rows = 6) #limits output of dataframes to 6 rows"
   ]
  },
  {
   "cell_type": "markdown",
   "id": "6ae1dc33-fb1a-4fa7-80ef-5da12c1cef1c",
   "metadata": {},
   "source": [
    "# Loading Data from the original source"
   ]
  },
  {
   "cell_type": "code",
   "execution_count": 7,
   "id": "812348bc-b535-4eff-bad0-b223228e714b",
   "metadata": {},
   "outputs": [
    {
     "name": "stderr",
     "output_type": "stream",
     "text": [
      "\u001b[1mRows: \u001b[22m\u001b[34m303\u001b[39m \u001b[1mColumns: \u001b[22m\u001b[34m14\u001b[39m\n",
      "\u001b[36m──\u001b[39m \u001b[1mColumn specification\u001b[22m \u001b[36m────────────────────────────────────────────────────────\u001b[39m\n",
      "\u001b[1mDelimiter:\u001b[22m \",\"\n",
      "\u001b[31mchr\u001b[39m  (2): X12, X13\n",
      "\u001b[32mdbl\u001b[39m (12): X1, X2, X3, X4, X5, X6, X7, X8, X9, X10, X11, X14\n",
      "\n",
      "\u001b[36mℹ\u001b[39m Use `spec()` to retrieve the full column specification for this data.\n",
      "\u001b[36mℹ\u001b[39m Specify the column types or set `show_col_types = FALSE` to quiet this message.\n"
     ]
    }
   ],
   "source": [
    "url <- \"https://raw.githubusercontent.com/UBC-DSCI/dsci-100-project_template/main/data/heart_disease/processed.cleveland.data\"\n",
    "cleveland_data <- read_csv(url, col_names = FALSE)"
   ]
  },
  {
   "cell_type": "markdown",
   "id": "810e4567-aea8-44d8-a829-50213eb0a723",
   "metadata": {},
   "source": [
    "# Data Wrangling:"
   ]
  },
  {
   "cell_type": "code",
   "execution_count": 8,
   "id": "b10d382b-5298-4ce8-8464-f637e4a218db",
   "metadata": {},
   "outputs": [
    {
     "name": "stderr",
     "output_type": "stream",
     "text": [
      "Warning message:\n",
      "“\u001b[1m\u001b[22mThere was 1 warning in `mutate()`.\n",
      "\u001b[1m\u001b[22m\u001b[36mℹ\u001b[39m In argument: `ca = as.numeric(ca)`.\n",
      "Caused by warning:\n",
      "\u001b[33m!\u001b[39m NAs introduced by coercion”\n"
     ]
    },
    {
     "data": {
      "text/html": [
       "<table class=\"dataframe\">\n",
       "<caption>A tibble: 299 × 14</caption>\n",
       "<thead>\n",
       "\t<tr><th scope=col>age</th><th scope=col>sex</th><th scope=col>cp</th><th scope=col>trestbps</th><th scope=col>chol</th><th scope=col>fbs</th><th scope=col>restcg</th><th scope=col>thalach</th><th scope=col>exang</th><th scope=col>oldpeak</th><th scope=col>slope</th><th scope=col>ca</th><th scope=col>thal</th><th scope=col>num</th></tr>\n",
       "\t<tr><th scope=col>&lt;dbl&gt;</th><th scope=col>&lt;fct&gt;</th><th scope=col>&lt;fct&gt;</th><th scope=col>&lt;dbl&gt;</th><th scope=col>&lt;dbl&gt;</th><th scope=col>&lt;fct&gt;</th><th scope=col>&lt;fct&gt;</th><th scope=col>&lt;dbl&gt;</th><th scope=col>&lt;fct&gt;</th><th scope=col>&lt;dbl&gt;</th><th scope=col>&lt;dbl&gt;</th><th scope=col>&lt;dbl&gt;</th><th scope=col>&lt;fct&gt;</th><th scope=col>&lt;fct&gt;</th></tr>\n",
       "</thead>\n",
       "<tbody>\n",
       "\t<tr><td>63</td><td>male</td><td>1</td><td>145</td><td>233</td><td>1</td><td>2</td><td>150</td><td>0</td><td>2.3</td><td>3</td><td>0</td><td>6.0</td><td>No heart disease</td></tr>\n",
       "\t<tr><td>67</td><td>male</td><td>4</td><td>160</td><td>286</td><td>0</td><td>2</td><td>108</td><td>1</td><td>1.5</td><td>2</td><td>3</td><td>3.0</td><td>Moderate        </td></tr>\n",
       "\t<tr><td>67</td><td>male</td><td>4</td><td>120</td><td>229</td><td>0</td><td>2</td><td>129</td><td>1</td><td>2.6</td><td>2</td><td>2</td><td>7.0</td><td>Mild            </td></tr>\n",
       "\t<tr><td>⋮</td><td>⋮</td><td>⋮</td><td>⋮</td><td>⋮</td><td>⋮</td><td>⋮</td><td>⋮</td><td>⋮</td><td>⋮</td><td>⋮</td><td>⋮</td><td>⋮</td><td>⋮</td></tr>\n",
       "\t<tr><td>68</td><td>male  </td><td>4</td><td>144</td><td>193</td><td>1</td><td>0</td><td>141</td><td>0</td><td>3.4</td><td>2</td><td>2</td><td>7.0</td><td>Moderate</td></tr>\n",
       "\t<tr><td>57</td><td>male  </td><td>4</td><td>130</td><td>131</td><td>0</td><td>0</td><td>115</td><td>1</td><td>1.2</td><td>2</td><td>1</td><td>7.0</td><td>Serious </td></tr>\n",
       "\t<tr><td>57</td><td>female</td><td>2</td><td>130</td><td>236</td><td>0</td><td>2</td><td>174</td><td>0</td><td>0.0</td><td>2</td><td>1</td><td>3.0</td><td>Mild    </td></tr>\n",
       "</tbody>\n",
       "</table>\n"
      ],
      "text/latex": [
       "A tibble: 299 × 14\n",
       "\\begin{tabular}{llllllllllllll}\n",
       " age & sex & cp & trestbps & chol & fbs & restcg & thalach & exang & oldpeak & slope & ca & thal & num\\\\\n",
       " <dbl> & <fct> & <fct> & <dbl> & <dbl> & <fct> & <fct> & <dbl> & <fct> & <dbl> & <dbl> & <dbl> & <fct> & <fct>\\\\\n",
       "\\hline\n",
       "\t 63 & male & 1 & 145 & 233 & 1 & 2 & 150 & 0 & 2.3 & 3 & 0 & 6.0 & No heart disease\\\\\n",
       "\t 67 & male & 4 & 160 & 286 & 0 & 2 & 108 & 1 & 1.5 & 2 & 3 & 3.0 & Moderate        \\\\\n",
       "\t 67 & male & 4 & 120 & 229 & 0 & 2 & 129 & 1 & 2.6 & 2 & 2 & 7.0 & Mild            \\\\\n",
       "\t ⋮ & ⋮ & ⋮ & ⋮ & ⋮ & ⋮ & ⋮ & ⋮ & ⋮ & ⋮ & ⋮ & ⋮ & ⋮ & ⋮\\\\\n",
       "\t 68 & male   & 4 & 144 & 193 & 1 & 0 & 141 & 0 & 3.4 & 2 & 2 & 7.0 & Moderate\\\\\n",
       "\t 57 & male   & 4 & 130 & 131 & 0 & 0 & 115 & 1 & 1.2 & 2 & 1 & 7.0 & Serious \\\\\n",
       "\t 57 & female & 2 & 130 & 236 & 0 & 2 & 174 & 0 & 0.0 & 2 & 1 & 3.0 & Mild    \\\\\n",
       "\\end{tabular}\n"
      ],
      "text/markdown": [
       "\n",
       "A tibble: 299 × 14\n",
       "\n",
       "| age &lt;dbl&gt; | sex &lt;fct&gt; | cp &lt;fct&gt; | trestbps &lt;dbl&gt; | chol &lt;dbl&gt; | fbs &lt;fct&gt; | restcg &lt;fct&gt; | thalach &lt;dbl&gt; | exang &lt;fct&gt; | oldpeak &lt;dbl&gt; | slope &lt;dbl&gt; | ca &lt;dbl&gt; | thal &lt;fct&gt; | num &lt;fct&gt; |\n",
       "|---|---|---|---|---|---|---|---|---|---|---|---|---|---|\n",
       "| 63 | male | 1 | 145 | 233 | 1 | 2 | 150 | 0 | 2.3 | 3 | 0 | 6.0 | No heart disease |\n",
       "| 67 | male | 4 | 160 | 286 | 0 | 2 | 108 | 1 | 1.5 | 2 | 3 | 3.0 | Moderate         |\n",
       "| 67 | male | 4 | 120 | 229 | 0 | 2 | 129 | 1 | 2.6 | 2 | 2 | 7.0 | Mild             |\n",
       "| ⋮ | ⋮ | ⋮ | ⋮ | ⋮ | ⋮ | ⋮ | ⋮ | ⋮ | ⋮ | ⋮ | ⋮ | ⋮ | ⋮ |\n",
       "| 68 | male   | 4 | 144 | 193 | 1 | 0 | 141 | 0 | 3.4 | 2 | 2 | 7.0 | Moderate |\n",
       "| 57 | male   | 4 | 130 | 131 | 0 | 0 | 115 | 1 | 1.2 | 2 | 1 | 7.0 | Serious  |\n",
       "| 57 | female | 2 | 130 | 236 | 0 | 2 | 174 | 0 | 0.0 | 2 | 1 | 3.0 | Mild     |\n",
       "\n"
      ],
      "text/plain": [
       "    age sex    cp trestbps chol fbs restcg thalach exang oldpeak slope ca thal\n",
       "1   63  male   1  145      233  1   2      150     0     2.3     3     0  6.0 \n",
       "2   67  male   4  160      286  0   2      108     1     1.5     2     3  3.0 \n",
       "3   67  male   4  120      229  0   2      129     1     2.6     2     2  7.0 \n",
       "⋮   ⋮   ⋮      ⋮  ⋮        ⋮    ⋮   ⋮      ⋮       ⋮     ⋮       ⋮     ⋮  ⋮   \n",
       "297 68  male   4  144      193  1   0      141     0     3.4     2     2  7.0 \n",
       "298 57  male   4  130      131  0   0      115     1     1.2     2     1  7.0 \n",
       "299 57  female 2  130      236  0   2      174     0     0.0     2     1  3.0 \n",
       "    num             \n",
       "1   No heart disease\n",
       "2   Moderate        \n",
       "3   Mild            \n",
       "⋮   ⋮               \n",
       "297 Moderate        \n",
       "298 Serious         \n",
       "299 Mild            "
      ]
     },
     "metadata": {},
     "output_type": "display_data"
    }
   ],
   "source": [
    "# First, assign the column names of each column based on the UCI Website:\n",
    "# https://archive.ics.uci.edu/dataset/45/heart+disease\n",
    "colnames(cleveland_data) <- c('age','sex','cp','trestbps','chol','fbs', 'restcg', \n",
    "                              'thalach','exang','oldpeak','slope','ca','thal','num')\n",
    "\n",
    "# This second step is to mutate the variables so that all of the columns/variables have the correct type according to the wedsite that the original dataset comes from\n",
    "cleveland_clean <- cleveland_data |> mutate(age = as.numeric(age), sex = as_factor(sex), cp = as_factor(cp),\n",
    "                                            trestbps = as.numeric(trestbps), chol = as.numeric(chol), fbs = as_factor(fbs),\n",
    "                                            restcg = as_factor(restcg), thalach = as.numeric(thalach), exang = as_factor(exang),\n",
    "                                            oldpeak = as.numeric(oldpeak), slope = as.numeric(slope), ca = as.numeric(ca),\n",
    "                                            thal = as_factor(thal), num = as.factor(num)) |>\n",
    "# This third step is to change gender/sex into words (male and female) instead of numbers (1 and 0) to make the data more readable to readers using the functions of mutate\n",
    "# and fct_recode\n",
    "                                     mutate(sex = fct_recode(sex, \"male\" = \"1\", \"female\" = \"0\"),\n",
    "# This fourth step is to change the level of heart disease representing by numbers to a more readable description of the heart disease diagnose using \n",
    "#the functions of mutate and fct_recode\n",
    "                                            num = fct_recode(num, \"No heart disease\" = \"0\", \"Mild\"=\"1\", \"Moderate\" = \"2\",\n",
    "                                                             \"Serious\" = \"3\", \"Life threatening\" = \"4\")) |>\n",
    "# This fifth step is to use the function drop_na() to remove rows containing missing (NA) values from a data frame.\n",
    "                                                                 drop_na()\n",
    "cleveland_clean"
   ]
  },
  {
   "cell_type": "markdown",
   "id": "3d2961d1-c6ef-407f-af93-d40b0623398f",
   "metadata": {},
   "source": [
    "# Discussion:"
   ]
  },
  {
   "cell_type": "markdown",
   "id": "40d24c71-d879-4913-9f5c-d9ee01d50c78",
   "metadata": {},
   "source": [
    "1. summarize what you found\r",
    "2. \n",
    "discuss whether this is what you expected to find\n",
    "3. \r\n",
    "discuss what impact could such findings hav\n",
    "4. discuss what future questions could this lead to?eto?"
   ]
  },
  {
   "cell_type": "markdown",
   "id": "15487916-0d0f-42fa-924a-de6fd8fc9e5d",
   "metadata": {},
   "source": [
    "# References:"
   ]
  }
 ],
 "metadata": {
  "kernelspec": {
   "display_name": "R",
   "language": "R",
   "name": "ir"
  },
  "language_info": {
   "codemirror_mode": "r",
   "file_extension": ".r",
   "mimetype": "text/x-r-source",
   "name": "R",
   "pygments_lexer": "r",
   "version": "4.3.1"
  }
 },
 "nbformat": 4,
 "nbformat_minor": 5
}
