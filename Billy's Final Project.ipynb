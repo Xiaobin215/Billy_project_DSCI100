{
 "cells": [
  {
   "cell_type": "markdown",
   "id": "540c57ea-e31e-4a4b-b9b8-815983d7e1d0",
   "metadata": {},
   "source": [
    "# Title: Analysis of Resting Blood Pressure (mm Hg) and Maximum Heart Rate (bpm) for Heart Disease Severity Classification"
   ]
  },
  {
   "cell_type": "markdown",
   "id": "520d2467-2820-4cb3-bdc3-bfdecfa32126",
   "metadata": {},
   "source": [
    "# Introduction"
   ]
  },
  {
   "cell_type": "markdown",
   "id": "77e5aed8-d3d3-49d0-9db6-47fbe60359cc",
   "metadata": {},
   "source": [
    "For my final project, I will be using a modified version of the UCI Heart Disease dataset, specifically focusing on the Cleveland database. The UCI Heart Disease dataset includes data from four sources: Cleveland, Hungary, Switzerland, and the VA Long Beach. The Cleveland database used to predict heart disease is chosen due to its sufficient number of observations. Heart disease is a major global health concern and responsible for a significant portion of deaths worldwide. Early detection and accurate classification of heart disease are vital for effective treatment. Additionally, the ability to predict the severity of heart disease can help healthcare professionals prioritize interventions and provide the ideal treatments to individual patients' needs. The Heart Disease Cleveland dataframe includes the variables: \"trestbps\" and \"thalach\", which I will be using to predict our variable of interest: \"num\". In this dataframe, \"trestbps\" refers to the \"resting blood pressure (mm Hg)\" on admission to the hospital, while \"thalach\" refers to \"maximum heart rate achieved (beats per minute, bpm)\", and \"num\" means the diagnosis of heart disease with a value of: 0 means no heart disease, 1-4 means the levels of heart disease[1]. I would classify levels of heart disease as 1 = Mild, 2 = Moderate, 3 = Severe 4 = Life threatening[2]. With these resources, I will be answering the question: Can we classify the extent of heart disease using resting blood pressure and maximum heart rate achieved?\n",
    "\n",
    "[1]: Source from Piazza question @555\n",
    "\n",
    "[2]: For the levels of heart disease, I refer to the document https://www.rigshospitalet.dk/afdelinger-og-klinikker/kraeft-og-organsygdomme/blodsygdomme/forskning/forsoegsbehandling/Documents/Lymfomer/Triangle/Triangle-SAE.pdf"
   ]
  },
  {
   "cell_type": "markdown",
   "id": "6f59faf6-14fb-478e-b2b0-20e2e2d46bfa",
   "metadata": {},
   "source": [
    "# Methods and Results:"
   ]
  },
  {
   "cell_type": "markdown",
   "id": "c1cb2ea8-0c42-42a7-808f-b9f57ee5bf68",
   "metadata": {},
   "source": [
    "The dataset would be loaded into my jupyter notebook using the function of read.table() in R so that I can easily manipulate and tidy the data. Also, the variables would be change from character to factor or integer or numeric according to the orginal dataset. The data analysis will utilize the \"trestbps,\" \"thalach,\" and \"num\" columns, which represent resting blood pressure (mm Hg), maximum heart rate achieved (bpm), and the diagnosis of heart disease, respectively. This analysis aims to understand how different maximum heart rates and resting blood pressure levels correlate with various diagnoses of heart disease. \n",
    "\n",
    "The prediction would be measured based on a classification model. Both predictor variables are quantitative for predicting the categorial class. The classification would be done with the application of k nearest neighbor algorithm as it does not require any specific shape assumption for the algorithm to perform well. I would split the dataset into training and testing sets. The optimal number of neighbors would be found by using the training dataset to train the k-NN model on the training data using different values of k to find the optimal number of neighbors. Additionally, I would evaluate the model performance using cross-validation to ensure it generalizes well to unseen data. Lastly, I would use the classifier, trained by the training set, to classify the heart disease diagnoses in the testing data. Then, I would perform a metrics from the predicted testing set to obtain the information of accuracy, precision, and recall of that classifier by analyzing the confusion matrix to understand the model's performance in predicting each class of heart disease.\n",
    "\n",
    "To visualize the result, a scatter plot would be used with the standardized variables to make sure the classifier would not treat one of the variables more important than the other. Each type of heart disease diagnosis would be labeled with different colors for clear identification."
   ]
  },
  {
   "cell_type": "code",
   "execution_count": null,
   "id": "b72fd45c-e752-43fc-8da5-48ec1d36c248",
   "metadata": {},
   "outputs": [],
   "source": []
  },
  {
   "cell_type": "markdown",
   "id": "3d2961d1-c6ef-407f-af93-d40b0623398f",
   "metadata": {},
   "source": [
    "# Discussion:"
   ]
  },
  {
   "cell_type": "markdown",
   "id": "40d24c71-d879-4913-9f5c-d9ee01d50c78",
   "metadata": {},
   "source": [
    "1. summarize what you found\r",
    "2. \n",
    "discuss whether this is what you expected to find\n",
    "3. \r\n",
    "discuss what impact could such findings hav\n",
    "4. discuss what future questions could this lead to?eto?"
   ]
  },
  {
   "cell_type": "code",
   "execution_count": null,
   "id": "4fb4dfc3-19f8-42b8-8ca9-10ed6a7362ea",
   "metadata": {},
   "outputs": [],
   "source": [
    "# References"
   ]
  }
 ],
 "metadata": {
  "kernelspec": {
   "display_name": "R",
   "language": "R",
   "name": "ir"
  },
  "language_info": {
   "codemirror_mode": "r",
   "file_extension": ".r",
   "mimetype": "text/x-r-source",
   "name": "R",
   "pygments_lexer": "r",
   "version": "4.3.1"
  }
 },
 "nbformat": 4,
 "nbformat_minor": 5
}
